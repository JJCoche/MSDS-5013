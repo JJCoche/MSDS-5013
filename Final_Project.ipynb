{
 "cells": [
  {
   "cell_type": "code",
   "execution_count": 2,
   "metadata": {},
   "outputs": [],
   "source": [
    "#importing packages needed\n",
    "import sqlite3 as sq\n",
    "import csv\n",
    "import numpy as np\n",
    "import pandas as pd\n",
    "import matplotlib.pyplot as plt"
   ]
  },
  {
   "cell_type": "code",
   "execution_count": 5,
   "metadata": {},
   "outputs": [],
   "source": [
    "#Because we will be plotting\n",
    "%matplotlib inline"
   ]
  },
  {
   "cell_type": "code",
   "execution_count": 6,
   "metadata": {},
   "outputs": [],
   "source": [
    "db = sq.connect('Final_Project.db')\n",
    "cursor = db.cursor()"
   ]
  },
  {
   "cell_type": "code",
   "execution_count": 7,
   "metadata": {},
   "outputs": [],
   "source": [
    "#DROP TABLE\n",
    "db = sq.connect('Final_Project.db')\n",
    "cursor = db.cursor()\n",
    "\n",
    "cursor.execute(\"DROP TABLE boran\")\n",
    "\n",
    "db.commit()"
   ]
  },
  {
   "cell_type": "code",
   "execution_count": 8,
   "metadata": {},
   "outputs": [
    {
     "data": {
      "text/plain": [
       "<sqlite3.Cursor at 0x11e004490>"
      ]
     },
     "execution_count": 8,
     "metadata": {},
     "output_type": "execute_result"
    }
   ],
   "source": [
    "#Schema for table: boran\n",
    "query = \"\"\"\n",
    "CREATE TABLE IF NOT EXISTS\n",
    "boran (\n",
    "    patient_id INTEGER UNIQUE NOT NULL,\n",
    "    blood_pressure REAL NOT NULL,\n",
    "    exercise REAL NOT NULL,\n",
    "    weight REAL NOT NULL,\n",
    "    glucose REAL NOT NULL,\n",
    "    bmi REAL NOT NULL,\n",
    "    planet_id INTEGER,\n",
    "    FOREIGN KEY(patient_id) REFERENCES deidentify_list_cross_ref(patient_id) ON DELETE CASCADE ON UPDATE CASCADE\n",
    "\n",
    ")\n",
    "\"\"\"\n",
    "db.commit()\n",
    "cursor.execute(query)"
   ]
  },
  {
   "cell_type": "code",
   "execution_count": 9,
   "metadata": {},
   "outputs": [
    {
     "data": {
      "text/plain": [
       "<sqlite3.Cursor at 0x11e004490>"
      ]
     },
     "execution_count": 9,
     "metadata": {},
     "output_type": "execute_result"
    }
   ],
   "source": [
    "#Schema for table: radan\n",
    "query = \"\"\"\n",
    "CREATE TABLE IF NOT EXISTS\n",
    "radan (\n",
    "    patient_id INTEGER UNIQUE NOT NULL,\n",
    "    blood_pressure REAL NOT NULL,\n",
    "    exercise REAL NOT NULL,\n",
    "    weight REAL NOT NULL,\n",
    "    glucose REAL NOT NULL,\n",
    "    bmi REAL NOT NULL,\n",
    "    planet_id INTEGER,\n",
    "    FOREIGN KEY(patient_id) REFERENCES deidentify_list_cross_ref(patient_id) ON DELETE CASCADE ON UPDATE CASCADE\n",
    "\n",
    ")\n",
    "\"\"\"\n",
    "db.commit()\n",
    "cursor.execute(query)"
   ]
  },
  {
   "cell_type": "code",
   "execution_count": 10,
   "metadata": {},
   "outputs": [
    {
     "data": {
      "text/plain": [
       "<sqlite3.Cursor at 0x11e004490>"
      ]
     },
     "execution_count": 10,
     "metadata": {},
     "output_type": "execute_result"
    }
   ],
   "source": [
    "#Schema for table: deidentify_list_cross_ref\n",
    "query = \"\"\"\n",
    "CREATE TABLE IF NOT EXISTS\n",
    "deidentify_list_cross_ref (\n",
    "    patient_id INTEGER NOT NULL,\n",
    "    age REAL NOT NULL,\n",
    "    PRIMARY KEY(patient_id) \n",
    ")\n",
    "\"\"\"\n",
    "db.commit()\n",
    "cursor.execute(query)"
   ]
  },
  {
   "cell_type": "code",
   "execution_count": 11,
   "metadata": {},
   "outputs": [
    {
     "name": "stdout",
     "output_type": "stream",
     "text": [
      "[['83944', '199.3786754272559', '143.2052394127308', '148.0363096589752', '125.2309595029977', '1.045335998748602', '1'], ['41989', '191.8531077765801', '102.5442949528522', '141.5887765213941', '119.8078897247692', '0.9888492943037684', '1'], ['94365', '207.2266056086006', '36.44648205029367', '157.4992910809086', '131.7500887097457', '1.09559924203521', '1'], ['93464', '203.4425081424164', '91.47601189936653', '152.8712061235762', '128.5861359293158', '1.071569290992198', '1'], ['57985', '194.2367744398017', '9.071700640962508', '145.5840706287164', '122.1414633727435', '1.000578523678859', '1'], ['16465', '208.5735015259991', '27.68127539647105', '158.9478567151441', '132.8135865552408', '1.104779426736802', '1'], ['26813', '183.5184100926074', '32.49557635765999', '134.9074255742924', '113.9466070068749', '0.9248397382758919', '1'], ['80055', '180.5131311696182', '94.34536417949276', '130.8986208819831', '111.3287589096565', '0.9068069449058118', '1'], ['12855', '176.5465913842933', '87.07707245424244', '127.2401894532959', '108.3883784589545', '0.8778548806887894', '1'], ['8248', '189.6286659200924', '90.16771623050553', '139.6895564001589', '118.2069859567501', '0.9721319603922562', '1'], ['22027', '179.7498139553679', '133.2030142102604', '129.4553109749506', '110.5297997844161', '0.903568076470432', '1'], ['79717', '201.0395918947049', '97.97980124273977', '150.4546419996205', '126.7417042375731', '1.054662225531684', '1'], ['8733', '198.5166349623462', '121.0054802417608', '147.6199070844969', '124.7113387334872', '1.037849074884709', '1'], ['84441', '185.7208487703624', '70.73257536313776', '136.3106994794703', '115.3812148287804', '0.9428972782919091', '1'], ['89103', '197.2545054772899', '24.85372099430126', '148.1791157086657', '124.3191267959746', '1.023199230753601', '1'], ['5231', '194.6395365112077', '45.8118006474328', '145.2943899424443', '122.2315497713015', '1.005604440880826', '1'], ['92701', '174.6059572262862', '57.13023587722152', '125.934949831111', '107.1026169364356', '0.862160843645932', '1'], ['57806', '198.433300528017', '72.80305406613492', '148.4254513569006', '124.9278078719961', '1.034456586927724', '1'], ['47753', '204.2130207189243', '53.09414933963532', '154.3126570475096', '129.3877501253779', '1.074887484247828', '1'], ['13711', '168.0384229196361', '144.5277089250683', '118.0515525953658', '101.6583431098937', '0.8199854713369228', '1'], ['19146', '186.8756405914675', '12.04243996266693', '138.4924611721005', '116.589371738492', '0.947802796451351', '1'], ['83256', '194.9915530670167', '31.76595073997058', '145.8888526195472', '122.577569724811', '1.007322577463439', '1'], ['79293', '203.7185290135442', '86.75500746120235', '153.2217734676198', '128.82101620545', '1.073281123351887', '1'], ['59275', '197.145756924594', '5.071320835838648', '148.4384473076614', '124.3519132050154', '1.021270729794427', '1'], ['89304', '185.244835323126', '228.9039390081622', '132.9509168074212', '114.1073638456332', '0.9486385456243758', '1'], ['13650', '208.1652245902218', '24.41574209401934', '158.6175241671756', '132.5255101635018', '1.101653513310275', '1'], ['93894', '197.0497691364877', '187.5608072009186', '144.9953709964465', '123.2229856939084', '1.031154586728837', '1'], ['44657', '195.2984616740345', '82.18719953748645', '145.2562920712786', '122.5163589145245', '1.012451779925433', '1'], ['49643', '209.973069340669', '10.61160636451282', '160.5992819963718', '133.9647779587995', '1.11385727582651', '1'], ['23115', '193.3845825850204', '17.73964636383264', '144.6102154221474', '121.450500238001', '0.994951057793719', '1']]\n"
     ]
    }
   ],
   "source": [
    "#import .csv file (boran.csv)\n",
    "\n",
    "with open('boran.csv', 'r') as file:\n",
    "    boran = csv.reader(file)\n",
    "    records = [line for line in boran]\n",
    "    print (records[1:])\n",
    "    \n",
    "#insert the data\n",
    "\n",
    "cursor.executemany('INSERT INTO boran VALUES(?, ?, ?, ?, ?, ?, ?)', records[1:])\n",
    "\n",
    "db.commit()"
   ]
  },
  {
   "cell_type": "code",
   "execution_count": 12,
   "metadata": {},
   "outputs": [
    {
     "name": "stdout",
     "output_type": "stream",
     "text": [
      "[['59477', '100.8503627383157', '166.2640312909193', '74.04046889881187', '73.50954656701538', '0.9541490700637366', '2'], ['33906', '103.9728732324547', '27.49981161067871', '83.31118233206458', '79.26910010956163', '1.006749089173546', '2'], ['15997', '105.2613249728564', '69.05487790417085', '83.56958587135468', '80.1495308613228', '1.032714839043871', '2'], ['39588', '100.9023859480981', '47.17046772388465', '78.41053415003124', '75.37371108750625', '0.9499893485968695', '2'], ['8499', '104.6353669752499', '75.52558886327326', '82.48170309067204', '79.31814990414159', '1.021249752353679', '2'], ['49144', '104.8333307222352', '22.27551883856579', '84.67411439019867', '80.35636148461062', '1.022667569989208', '2'], ['95063', '104.9951294578826', '11.55089947542455', '85.28207537220875', '80.70831671525943', '1.025240726356536', '2'], ['16876', '106.5904487462266', '61.84107534524813', '85.64396708999513', '81.81603105179715', '1.057340570004579', '2'], ['42695', '104.4809123013894', '2.288449030836423', '84.91463442288884', '80.24607537680167', '1.015193629819499', '2'], ['75595', '94.31043409725984', '204.451010383645', '63.73635305840861', '65.26880973445463', '0.8330946940488874', '2'], ['52846', '102.3581256730845', '67.55365234057442', '79.66151781543412', '76.77071194524548', '0.9781807171111917', '2'], ['84204', '108.8911635653494', '63.10204167172247', '88.73844281527818', '84.49258356261993', '1.100560608924592', '2'], ['77866', '94.04168007516215', '163.7156007211521', '64.84003541741262', '65.5707028035813', '0.8262957042899245', '2'], ['86935', '108.72231866857', '48.9340983497119', '89.01944225018019', '84.50927421128193', '1.096781790407445', '2'], ['36755', '111.5134114856449', '64.24488364486209', '92.27600802739143', '87.54765060757346', '1.149808108964654', '2'], ['14617', '108.9913429580791', '17.58690826162421', '90.51818156511679', '85.29910988687789', '1.100477371640158', '2'], ['52176', '103.9396076255726', '43.36584697247981', '82.69304626412263', '78.98989456165557', '1.006809169455376', '2'], ['86471', '102.4648745331564', '199.3343145527946', '75.05016167004882', '74.90047655713897', '0.9858664125256407', '2'], ['48148', '99.96194956364249', '62.69517856397962', '76.56662098114056', '74.03678202858927', '0.9330145096215496', '2'], ['5502', '102.7431581759958', '43.03159853743706', '81.07220886724419', '77.59312898933187', '0.984347152939304', '2'], ['37846', '99.27935929298329', '120.4411239484132', '73.55050282221265', '72.36268252160659', '0.9226980823799681', '2'], ['27746', '96.49150809246473', '201.6471978323747', '66.81427533244413', '67.86672977595637', '0.8738947611276559', '2'], ['38830', '99.89354702460913', '157.3552524379316', '73.05620661189393', '72.52337724617647', '0.9358132584541414', '2'], ['8495', '101.5324388051283', '84.2640344770529', '77.93141311634497', '75.55027737385007', '0.9634099218075446', '2'], ['84851', '108.3773878492868', '59.86322590311165', '88.15416191092812', '83.93965479860607', '1.090781556945857', '2'], ['95788', '107.3452747582134', '39.59864743818272', '87.47705849618245', '83.03720254748222', '1.070543321601958', '2'], ['88346', '99.87239120688395', '123.5528836014227', '74.24753835226512', '73.01039601196611', '0.9339586479283988', '2'], ['84401', '106.6121786912856', '103.8242979163763', '84.1581047380897', '81.20581758745297', '1.059558742131896', '2'], ['40119', '103.8279489465587', '67.8432997556838', '81.65706330124664', '78.48845274746628', '1.005769808327623', '2'], ['15337', '106.776781744166', '112.962267030735', '84.0528891384883', '81.2603164577549', '1.063041063964706', '2']]\n"
     ]
    },
    {
     "ename": "IntegrityError",
     "evalue": "UNIQUE constraint failed: radan.patient_id",
     "output_type": "error",
     "traceback": [
      "\u001b[0;31m---------------------------------------------------------------------------\u001b[0m",
      "\u001b[0;31mIntegrityError\u001b[0m                            Traceback (most recent call last)",
      "\u001b[0;32m<ipython-input-12-d57edde4990c>\u001b[0m in \u001b[0;36m<module>\u001b[0;34m()\u001b[0m\n\u001b[1;32m      8\u001b[0m \u001b[0;31m#insert the data\u001b[0m\u001b[0;34m\u001b[0m\u001b[0;34m\u001b[0m\u001b[0m\n\u001b[1;32m      9\u001b[0m \u001b[0;34m\u001b[0m\u001b[0m\n\u001b[0;32m---> 10\u001b[0;31m \u001b[0mcursor\u001b[0m\u001b[0;34m.\u001b[0m\u001b[0mexecutemany\u001b[0m\u001b[0;34m(\u001b[0m\u001b[0;34m'INSERT INTO radan VALUES(?, ?, ?, ?, ?, ?, ?)'\u001b[0m\u001b[0;34m,\u001b[0m \u001b[0mrecords\u001b[0m\u001b[0;34m[\u001b[0m\u001b[0;36m1\u001b[0m\u001b[0;34m:\u001b[0m\u001b[0;34m]\u001b[0m\u001b[0;34m)\u001b[0m\u001b[0;34m\u001b[0m\u001b[0m\n\u001b[0m\u001b[1;32m     11\u001b[0m \u001b[0;34m\u001b[0m\u001b[0m\n\u001b[1;32m     12\u001b[0m \u001b[0mdb\u001b[0m\u001b[0;34m.\u001b[0m\u001b[0mcommit\u001b[0m\u001b[0;34m(\u001b[0m\u001b[0;34m)\u001b[0m\u001b[0;34m\u001b[0m\u001b[0m\n",
      "\u001b[0;31mIntegrityError\u001b[0m: UNIQUE constraint failed: radan.patient_id"
     ]
    }
   ],
   "source": [
    "#import .csv file (radan.csv)\n",
    "\n",
    "with open('radan.csv', 'r') as file:\n",
    "    radan = csv.reader(file)\n",
    "    records = [line for line in radan]\n",
    "    print (records[1:])\n",
    "    \n",
    "#insert the data\n",
    "\n",
    "cursor.executemany('INSERT INTO radan VALUES(?, ?, ?, ?, ?, ?, ?)', records[1:])\n",
    "\n",
    "db.commit()"
   ]
  },
  {
   "cell_type": "code",
   "execution_count": 13,
   "metadata": {},
   "outputs": [
    {
     "name": "stdout",
     "output_type": "stream",
     "text": [
      "[['41989', '76.95746159793327'], ['52846', '80.07649474441595'], ['15997', '86.50820751374538'], ['8248', '74.24296476638824'], ['83944', '86.05542741715031'], ['42695', '78.05831280779482'], ['8495', '79.98288192408594'], ['89103', '75.93745799908589'], ['88346', '80.37119165380525'], ['92701', '59.48152054657916'], ['89304', '80.41722080438393'], ['52176', '81.04762176769739'], ['14617', '89.36382791296147'], ['8499', '85.80957740671172'], ['13650', '84.93243246478934'], ['75595', '76.53362593568605'], ['15337', '94.23294060813099'], ['16876', '88.65254088800572'], ['59275', '74.45000089652393'], ['40119', '83.28508436593647'], ['5502', '78.42582782260943'], ['37846', '78.77330546057742'], ['84851', '92.3174146095638'], ['94365', '85.00584953109663'], ['27746', '80.96737043245494'], ['47753', '83.68890192121138'], ['22027', '69.11082101950613'], ['49144', '80.84481411471556'], ['13711', '60.22256293137705'], ['59477', '86.81218337847068'], ['48148', '74.40147341790889'], ['33906', '79.51272477116433'], ['38830', '83.84032617850727'], ['57985', '72.3261393264205'], ['16465', '85.50086854639972'], ['84441', '69.63725193151235'], ['86935', '91.95664636155799'], ['86471', '93.65363388104797'], ['23115', '72.23349442497819'], ['93894', '87.26225996395817'], ['93464', '85.7629164281248'], ['77866', '71.82678011392464'], ['19146', '66.446489180217'], ['79717', '84.23454837838823'], ['83256', '74.55372891127961'], ['95788', '88.03261600154515'], ['84401', '92.95144270790179'], ['95063', '80.10863954713301'], ['36755', '99.54444988399453'], ['79293', '85.65774778116179'], ['39588', '74.86337182484377'], ['44657', '78.36954464629466'], ['12855', '63.20245841647348'], ['8733', '83.77403774339422'], ['26813', '65.11409104870205'], ['49643', '85.45280561339271'], ['80055', '66.99724292268333'], ['57806', '80.29991922165716'], ['5231', '75.25476811590492'], ['84204', '93.75673591925199']]\n"
     ]
    },
    {
     "ename": "IntegrityError",
     "evalue": "UNIQUE constraint failed: deidentify_list_cross_ref.patient_id",
     "output_type": "error",
     "traceback": [
      "\u001b[0;31m---------------------------------------------------------------------------\u001b[0m",
      "\u001b[0;31mIntegrityError\u001b[0m                            Traceback (most recent call last)",
      "\u001b[0;32m<ipython-input-13-ab276f707e99>\u001b[0m in \u001b[0;36m<module>\u001b[0;34m()\u001b[0m\n\u001b[1;32m      8\u001b[0m \u001b[0;31m#insert the data\u001b[0m\u001b[0;34m\u001b[0m\u001b[0;34m\u001b[0m\u001b[0m\n\u001b[1;32m      9\u001b[0m \u001b[0;34m\u001b[0m\u001b[0m\n\u001b[0;32m---> 10\u001b[0;31m \u001b[0mcursor\u001b[0m\u001b[0;34m.\u001b[0m\u001b[0mexecutemany\u001b[0m\u001b[0;34m(\u001b[0m\u001b[0;34m'INSERT INTO deidentify_list_cross_ref VALUES(?, ?)'\u001b[0m\u001b[0;34m,\u001b[0m \u001b[0mrecords\u001b[0m\u001b[0;34m[\u001b[0m\u001b[0;36m1\u001b[0m\u001b[0;34m:\u001b[0m\u001b[0;34m]\u001b[0m\u001b[0;34m)\u001b[0m\u001b[0;34m\u001b[0m\u001b[0m\n\u001b[0m\u001b[1;32m     11\u001b[0m \u001b[0;34m\u001b[0m\u001b[0m\n\u001b[1;32m     12\u001b[0m \u001b[0mdb\u001b[0m\u001b[0;34m.\u001b[0m\u001b[0mcommit\u001b[0m\u001b[0;34m(\u001b[0m\u001b[0;34m)\u001b[0m\u001b[0;34m\u001b[0m\u001b[0m\n",
      "\u001b[0;31mIntegrityError\u001b[0m: UNIQUE constraint failed: deidentify_list_cross_ref.patient_id"
     ]
    }
   ],
   "source": [
    "#import .csv file (deidentify_list_cross_ref.csv)\n",
    "\n",
    "with open('deidentify_list_cross_ref.csv', 'r') as file:\n",
    "    deidentify_list_cross_ref = csv.reader(file)\n",
    "    records = [line for line in deidentify_list_cross_ref]\n",
    "    print (records[1:])\n",
    "    \n",
    "#insert the data\n",
    "\n",
    "cursor.executemany('INSERT INTO deidentify_list_cross_ref VALUES(?, ?)', records[1:])\n",
    "\n",
    "db.commit()"
   ]
  },
  {
   "cell_type": "code",
   "execution_count": 14,
   "metadata": {},
   "outputs": [
    {
     "ename": "OperationalError",
     "evalue": "database is locked",
     "output_type": "error",
     "traceback": [
      "\u001b[0;31m---------------------------------------------------------------------------\u001b[0m",
      "\u001b[0;31mOperationalError\u001b[0m                          Traceback (most recent call last)",
      "\u001b[0;32m<ipython-input-14-e99918a8da4c>\u001b[0m in \u001b[0;36m<module>\u001b[0;34m()\u001b[0m\n\u001b[1;32m      3\u001b[0m \u001b[0mcursor\u001b[0m \u001b[0;34m=\u001b[0m \u001b[0mdb\u001b[0m\u001b[0;34m.\u001b[0m\u001b[0mcursor\u001b[0m\u001b[0;34m(\u001b[0m\u001b[0;34m)\u001b[0m\u001b[0;34m\u001b[0m\u001b[0m\n\u001b[1;32m      4\u001b[0m \u001b[0;34m\u001b[0m\u001b[0m\n\u001b[0;32m----> 5\u001b[0;31m \u001b[0mcursor\u001b[0m\u001b[0;34m.\u001b[0m\u001b[0mexecute\u001b[0m\u001b[0;34m(\u001b[0m\u001b[0;34m\"INSERT INTO deidentify_list_cross_ref VALUES(41989, 76.9574616)\"\u001b[0m\u001b[0;34m)\u001b[0m\u001b[0;34m\u001b[0m\u001b[0m\n\u001b[0m\u001b[1;32m      6\u001b[0m \u001b[0;34m\u001b[0m\u001b[0m\n\u001b[1;32m      7\u001b[0m \u001b[0mdb\u001b[0m\u001b[0;34m.\u001b[0m\u001b[0mcommit\u001b[0m\u001b[0;34m(\u001b[0m\u001b[0;34m)\u001b[0m\u001b[0;34m\u001b[0m\u001b[0m\n",
      "\u001b[0;31mOperationalError\u001b[0m: database is locked"
     ]
    }
   ],
   "source": [
    "#checking UNIQUE contraints by updating with duplicate data\n",
    "db = sq.connect('Final_Project.db')\n",
    "cursor = db.cursor()\n",
    "\n",
    "cursor.execute(\"INSERT INTO deidentify_list_cross_ref VALUES(41989, 76.9574616)\")\n",
    "\n",
    "db.commit()\n",
    "db.close()"
   ]
  },
  {
   "cell_type": "code",
   "execution_count": null,
   "metadata": {},
   "outputs": [],
   "source": [
    "#checking UNIQUE contraints by updating with duplicate data\n",
    "db = sq.connect('Final_Project.db')\n",
    "cursor = db.cursor()\n",
    "\n",
    "cursor.execute(\"INSERT INTO boran VALUES(83944, 199.3786754, 143.2052394, 148.0363097, 125.2309595, 1.045335999, 1)\")\n",
    "\n",
    "db.commit()\n",
    "db.close()"
   ]
  },
  {
   "cell_type": "code",
   "execution_count": null,
   "metadata": {},
   "outputs": [],
   "source": [
    "#checking UNIQUE contraints by updating with duplicate data\n",
    "db = sq.connect('Final_Project.db')\n",
    "cursor = db.cursor()\n",
    "\n",
    "cursor.execute(\"INSERT INTO radan VALUES(59477, 100.8503627, 166.2640313, 74.0404689, 73.50954657, 0.95414907, 2)\")\n",
    "\n",
    "db.commit()\n",
    "db.close()"
   ]
  },
  {
   "cell_type": "code",
   "execution_count": 15,
   "metadata": {},
   "outputs": [
    {
     "ename": "OperationalError",
     "evalue": "database is locked",
     "output_type": "error",
     "traceback": [
      "\u001b[0;31m---------------------------------------------------------------------------\u001b[0m",
      "\u001b[0;31mOperationalError\u001b[0m                          Traceback (most recent call last)",
      "\u001b[0;32m<ipython-input-15-dc4508f5139b>\u001b[0m in \u001b[0;36m<module>\u001b[0;34m()\u001b[0m\n\u001b[1;32m      5\u001b[0m \u001b[0mcursor\u001b[0m \u001b[0;34m=\u001b[0m \u001b[0mdb\u001b[0m\u001b[0;34m.\u001b[0m\u001b[0mcursor\u001b[0m\u001b[0;34m(\u001b[0m\u001b[0;34m)\u001b[0m\u001b[0;34m\u001b[0m\u001b[0m\n\u001b[1;32m      6\u001b[0m \u001b[0;34m\u001b[0m\u001b[0m\n\u001b[0;32m----> 7\u001b[0;31m \u001b[0mcursor\u001b[0m\u001b[0;34m.\u001b[0m\u001b[0mexecute\u001b[0m\u001b[0;34m(\u001b[0m\u001b[0;34m\"INSERT INTO boran VALUES(1111, 'NULL', 143.2052394, 148.0363097, 125.2309595, 1.045335999, 1)\"\u001b[0m\u001b[0;34m)\u001b[0m\u001b[0;34m\u001b[0m\u001b[0m\n\u001b[0m\u001b[1;32m      8\u001b[0m \u001b[0;34m\u001b[0m\u001b[0m\n\u001b[1;32m      9\u001b[0m \u001b[0mdb\u001b[0m\u001b[0;34m.\u001b[0m\u001b[0mcommit\u001b[0m\u001b[0;34m(\u001b[0m\u001b[0;34m)\u001b[0m\u001b[0;34m\u001b[0m\u001b[0m\n",
      "\u001b[0;31mOperationalError\u001b[0m: database is locked"
     ]
    }
   ],
   "source": [
    "#DO NOT RUN, ASK IN CLASS\n",
    "\n",
    "#checking contraints by updating with data with NULL value\n",
    "db = sq.connect('Final_Project.db')\n",
    "cursor = db.cursor()\n",
    "\n",
    "cursor.execute(\"INSERT INTO boran VALUES(1111, 'NULL', 143.2052394, 148.0363097, 125.2309595, 1.045335999, 1)\")\n",
    "\n",
    "db.commit()\n",
    "db.close()"
   ]
  },
  {
   "cell_type": "code",
   "execution_count": 60,
   "metadata": {},
   "outputs": [
    {
     "name": "stdout",
     "output_type": "stream",
     "text": [
      "[(199.3786754272559, 86.05542741715031, 1), (191.8531077765801, 76.95746159793327, 1), (207.2266056086006, 85.00584953109663, 1), (203.4425081424164, 85.7629164281248, 1), (194.2367744398017, 72.3261393264205, 1), (208.5735015259991, 85.50086854639972, 1), (183.5184100926074, 65.11409104870205, 1), (180.5131311696182, 66.99724292268333, 1), (176.5465913842933, 63.20245841647348, 1), (189.6286659200924, 74.24296476638824, 1), (179.7498139553679, 69.11082101950613, 1), (201.0395918947049, 84.23454837838823, 1), (198.5166349623462, 83.77403774339422, 1), (185.7208487703624, 69.63725193151235, 1), (197.2545054772899, 75.9374579990859, 1), (194.6395365112077, 75.25476811590492, 1), (174.6059572262862, 59.48152054657916, 1), (198.433300528017, 80.29991922165716, 1), (204.2130207189243, 83.68890192121138, 1), (168.0384229196361, 60.22256293137705, 1), (186.8756405914675, 66.446489180217, 1), (194.9915530670167, 74.5537289112796, 1), (203.7185290135442, 85.65774778116179, 1), (197.145756924594, 74.45000089652393, 1), (185.244835323126, 80.41722080438393, 1), (208.1652245902218, 84.93243246478934, 1), (197.0497691364877, 87.26225996395817, 1), (195.2984616740345, 78.36954464629466, 1), (209.973069340669, 85.45280561339271, 1), (193.3845825850204, 72.23349442497819, 1)]\n"
     ]
    }
   ],
   "source": [
    "#using JOIN statement\n",
    "db = sq.connect('Final_Project.db')\n",
    "cursor = db.cursor()\n",
    "\n",
    "boran_query = \"\"\"SELECT b.blood_pressure, d.age, b.planet_id\n",
    "                  FROM boran b\n",
    "                  JOIN\n",
    "                  deidentify_list_cross_ref d ON b.patient_id = d.patient_id\n",
    "                  \n",
    "\n",
    "\"\"\"\n",
    "cursor.execute(boran_query)\n",
    "print(cursor.fetchall())\n",
    "db.commit()\n",
    "db.close()"
   ]
  },
  {
   "cell_type": "code",
   "execution_count": 63,
   "metadata": {},
   "outputs": [
    {
     "name": "stdout",
     "output_type": "stream",
     "text": [
      "[(100.8503627383157, 86.81218337847068, 2), (103.9728732324547, 79.51272477116433, 2), (105.2613249728564, 86.50820751374538, 2), (100.9023859480981, 74.86337182484377, 2), (104.6353669752499, 85.80957740671172, 2), (104.8333307222352, 80.84481411471556, 2), (104.9951294578826, 80.10863954713301, 2), (106.5904487462266, 88.65254088800572, 2), (104.4809123013894, 78.05831280779482, 2), (94.31043409725984, 76.53362593568605, 2), (102.3581256730845, 80.07649474441595, 2), (108.8911635653494, 93.756735919252, 2), (94.04168007516215, 71.82678011392464, 2), (108.72231866857, 91.95664636155799, 2), (111.5134114856449, 99.54444988399453, 2), (108.9913429580791, 89.36382791296147, 2), (103.9396076255726, 81.0476217676974, 2), (102.4648745331564, 93.65363388104797, 2), (99.96194956364249, 74.40147341790889, 2), (102.7431581759958, 78.42582782260943, 2), (99.27935929298329, 78.77330546057742, 2), (96.49150809246473, 80.96737043245494, 2), (99.89354702460913, 83.84032617850727, 2), (101.5324388051283, 79.98288192408594, 2), (108.3773878492868, 92.3174146095638, 2), (107.3452747582134, 88.03261600154515, 2), (99.87239120688395, 80.37119165380525, 2), (106.6121786912856, 92.95144270790179, 2), (103.8279489465587, 83.28508436593647, 2), (106.776781744166, 94.23294060813099, 2)]\n"
     ]
    }
   ],
   "source": [
    "#using JOIN statement\n",
    "db = sq.connect('Final_Project.db')\n",
    "cursor = db.cursor()\n",
    "\n",
    "radan_query = \"\"\"SELECT r.blood_pressure, d.age, r.planet_id\n",
    "                  FROM radan r\n",
    "                  JOIN\n",
    "                  deidentify_list_cross_ref d ON r.patient_id = d.patient_id\n",
    "                  \n",
    "\"\"\"\n",
    "cursor.execute(radan_query)\n",
    "print(cursor.fetchall())\n",
    "db.commit()\n",
    "db.close()"
   ]
  },
  {
   "cell_type": "code",
   "execution_count": 4,
   "metadata": {},
   "outputs": [
    {
     "data": {
      "text/html": [
       "<div>\n",
       "<style scoped>\n",
       "    .dataframe tbody tr th:only-of-type {\n",
       "        vertical-align: middle;\n",
       "    }\n",
       "\n",
       "    .dataframe tbody tr th {\n",
       "        vertical-align: top;\n",
       "    }\n",
       "\n",
       "    .dataframe thead th {\n",
       "        text-align: right;\n",
       "    }\n",
       "</style>\n",
       "<table border=\"1\" class=\"dataframe\">\n",
       "  <thead>\n",
       "    <tr style=\"text-align: right;\">\n",
       "      <th></th>\n",
       "      <th>blood_pressure</th>\n",
       "      <th>age</th>\n",
       "      <th>planet_id</th>\n",
       "      <th>Unnamed: 3</th>\n",
       "    </tr>\n",
       "  </thead>\n",
       "  <tbody>\n",
       "    <tr>\n",
       "      <th>0</th>\n",
       "      <td>199.378675</td>\n",
       "      <td>86.055427</td>\n",
       "      <td>1</td>\n",
       "      <td></td>\n",
       "    </tr>\n",
       "    <tr>\n",
       "      <th>1</th>\n",
       "      <td>191.853108</td>\n",
       "      <td>76.957462</td>\n",
       "      <td>1</td>\n",
       "      <td></td>\n",
       "    </tr>\n",
       "    <tr>\n",
       "      <th>2</th>\n",
       "      <td>207.226606</td>\n",
       "      <td>85.005850</td>\n",
       "      <td>1</td>\n",
       "      <td></td>\n",
       "    </tr>\n",
       "    <tr>\n",
       "      <th>3</th>\n",
       "      <td>203.442508</td>\n",
       "      <td>85.762916</td>\n",
       "      <td>1</td>\n",
       "      <td></td>\n",
       "    </tr>\n",
       "    <tr>\n",
       "      <th>4</th>\n",
       "      <td>194.236774</td>\n",
       "      <td>72.326139</td>\n",
       "      <td>1</td>\n",
       "      <td></td>\n",
       "    </tr>\n",
       "  </tbody>\n",
       "</table>\n",
       "</div>"
      ],
      "text/plain": [
       "   blood_pressure        age  planet_id Unnamed: 3\n",
       "0      199.378675  86.055427          1           \n",
       "1      191.853108  76.957462          1           \n",
       "2      207.226606  85.005850          1           \n",
       "3      203.442508  85.762916          1           \n",
       "4      194.236774  72.326139          1           "
      ]
     },
     "execution_count": 4,
     "metadata": {},
     "output_type": "execute_result"
    }
   ],
   "source": [
    "#creating an array for boran_query\n",
    "\n",
    "boran_array = pd.read_csv('boran_query_data.csv')\n",
    "boran_array.head()"
   ]
  },
  {
   "cell_type": "code",
   "execution_count": 5,
   "metadata": {},
   "outputs": [
    {
     "data": {
      "text/html": [
       "<div>\n",
       "<style scoped>\n",
       "    .dataframe tbody tr th:only-of-type {\n",
       "        vertical-align: middle;\n",
       "    }\n",
       "\n",
       "    .dataframe tbody tr th {\n",
       "        vertical-align: top;\n",
       "    }\n",
       "\n",
       "    .dataframe thead th {\n",
       "        text-align: right;\n",
       "    }\n",
       "</style>\n",
       "<table border=\"1\" class=\"dataframe\">\n",
       "  <thead>\n",
       "    <tr style=\"text-align: right;\">\n",
       "      <th></th>\n",
       "      <th>blood_pressure</th>\n",
       "      <th>age</th>\n",
       "      <th>planet_id</th>\n",
       "    </tr>\n",
       "  </thead>\n",
       "  <tbody>\n",
       "    <tr>\n",
       "      <th>25</th>\n",
       "      <td>107.345275</td>\n",
       "      <td>88.032616</td>\n",
       "      <td>2</td>\n",
       "    </tr>\n",
       "    <tr>\n",
       "      <th>26</th>\n",
       "      <td>99.872391</td>\n",
       "      <td>80.371192</td>\n",
       "      <td>2</td>\n",
       "    </tr>\n",
       "    <tr>\n",
       "      <th>27</th>\n",
       "      <td>106.612179</td>\n",
       "      <td>92.951443</td>\n",
       "      <td>2</td>\n",
       "    </tr>\n",
       "    <tr>\n",
       "      <th>28</th>\n",
       "      <td>103.827949</td>\n",
       "      <td>83.285084</td>\n",
       "      <td>2</td>\n",
       "    </tr>\n",
       "    <tr>\n",
       "      <th>29</th>\n",
       "      <td>106.776782</td>\n",
       "      <td>94.232941</td>\n",
       "      <td>2</td>\n",
       "    </tr>\n",
       "  </tbody>\n",
       "</table>\n",
       "</div>"
      ],
      "text/plain": [
       "    blood_pressure        age  planet_id\n",
       "25      107.345275  88.032616          2\n",
       "26       99.872391  80.371192          2\n",
       "27      106.612179  92.951443          2\n",
       "28      103.827949  83.285084          2\n",
       "29      106.776782  94.232941          2"
      ]
     },
     "execution_count": 5,
     "metadata": {},
     "output_type": "execute_result"
    }
   ],
   "source": [
    "#creating an array for radan\n",
    "\n",
    "radan_array = pd.read_csv('Radan_query_data.csv')\n",
    "radan_array.tail()"
   ]
  },
  {
   "cell_type": "code",
   "execution_count": 100,
   "metadata": {},
   "outputs": [],
   "source": [
    "import pandas as pd\n",
    "from sklearn.linear_model import LinearRegression"
   ]
  },
  {
   "cell_type": "code",
   "execution_count": 102,
   "metadata": {},
   "outputs": [],
   "source": [
    "X = boran_array[['age']] \n",
    "Y = boran_array['blood_pressure']"
   ]
  },
  {
   "cell_type": "code",
   "execution_count": 103,
   "metadata": {},
   "outputs": [
    {
     "data": {
      "text/plain": [
       "LinearRegression(copy_X=True, fit_intercept=True, n_jobs=1, normalize=False)"
      ]
     },
     "execution_count": 103,
     "metadata": {},
     "output_type": "execute_result"
    }
   ],
   "source": [
    "model = LinearRegression()\n",
    "model.fit(X, Y)"
   ]
  },
  {
   "cell_type": "code",
   "execution_count": 104,
   "metadata": {},
   "outputs": [
    {
     "data": {
      "text/plain": [
       "array([1.14074587])"
      ]
     },
     "execution_count": 104,
     "metadata": {},
     "output_type": "execute_result"
    }
   ],
   "source": [
    "# coefficient for boran_array\n",
    "model.coef_"
   ]
  },
  {
   "cell_type": "code",
   "execution_count": 105,
   "metadata": {},
   "outputs": [
    {
     "data": {
      "text/plain": [
       "106.45741678459252"
      ]
     },
     "execution_count": 105,
     "metadata": {},
     "output_type": "execute_result"
    }
   ],
   "source": [
    "#Y intercept for boran_array\n",
    "model.intercept_"
   ]
  },
  {
   "cell_type": "code",
   "execution_count": 111,
   "metadata": {},
   "outputs": [
    {
     "data": {
      "text/plain": [
       "333.8978173132131"
      ]
     },
     "execution_count": 111,
     "metadata": {},
     "output_type": "execute_result"
    }
   ],
   "source": [
    "# finding Y for boran_array\n",
    "(1.14074587*199.3786754) + 106.45741678459252"
   ]
  },
  {
   "cell_type": "code",
   "execution_count": 117,
   "metadata": {},
   "outputs": [
    {
     "data": {
      "text/plain": [
       "array([[<matplotlib.axes._subplots.AxesSubplot object at 0x1a20728c18>]],\n",
       "      dtype=object)"
      ]
     },
     "execution_count": 117,
     "metadata": {},
     "output_type": "execute_result"
    },
    {
     "data": {
      "image/png": "[encoded data removed]",
      "text/plain": [
       "<Figure size 432x288 with 1 Axes>"
      ]
     },
     "metadata": {},
     "output_type": "display_data"
    }
   ],
   "source": [
    "boran_array.hist('blood_pressure')"
   ]
  },
  {
   "cell_type": "code",
   "execution_count": 122,
   "metadata": {},
   "outputs": [
    {
     "data": {
      "text/plain": [
       "blood_pressure    193.632568\n",
       "age                76.419431\n",
       "planet_id           1.000000\n",
       "dtype: float64"
      ]
     },
     "execution_count": 122,
     "metadata": {},
     "output_type": "execute_result"
    }
   ],
   "source": [
    "boran_array.mean()"
   ]
  },
  {
   "cell_type": "code",
   "execution_count": 107,
   "metadata": {},
   "outputs": [],
   "source": [
    "# radan starta here\n",
    "X = radan_array[['age']] \n",
    "Y = radan_array['blood_pressure']"
   ]
  },
  {
   "cell_type": "code",
   "execution_count": 108,
   "metadata": {},
   "outputs": [
    {
     "data": {
      "text/plain": [
       "LinearRegression(copy_X=True, fit_intercept=True, n_jobs=1, normalize=False)"
      ]
     },
     "execution_count": 108,
     "metadata": {},
     "output_type": "execute_result"
    }
   ],
   "source": [
    "model = LinearRegression()\n",
    "model.fit(X, Y)"
   ]
  },
  {
   "cell_type": "code",
   "execution_count": 109,
   "metadata": {},
   "outputs": [
    {
     "data": {
      "text/plain": [
       "array([0.47088464])"
      ]
     },
     "execution_count": 109,
     "metadata": {},
     "output_type": "execute_result"
    }
   ],
   "source": [
    "model.coef_"
   ]
  },
  {
   "cell_type": "code",
   "execution_count": 110,
   "metadata": {},
   "outputs": [
    {
     "data": {
      "text/plain": [
       "63.825776437935936"
      ]
     },
     "execution_count": 110,
     "metadata": {},
     "output_type": "execute_result"
    }
   ],
   "source": [
    "model.intercept_"
   ]
  },
  {
   "cell_type": "code",
   "execution_count": 126,
   "metadata": {
    "scrolled": true
   },
   "outputs": [
    {
     "data": {
      "text/plain": [
       "array([[<matplotlib.axes._subplots.AxesSubplot object at 0x1a2180a358>]],\n",
       "      dtype=object)"
      ]
     },
     "execution_count": 126,
     "metadata": {},
     "output_type": "execute_result"
    },
    {
     "data": {
      "image/png": "[encoded data removed]",
      "text/plain": [
       "<Figure size 432x288 with 1 Axes>"
      ]
     },
     "metadata": {},
     "output_type": "display_data"
    }
   ],
   "source": [
    "radan_array.hist('blood_pressure')"
   ]
  },
  {
   "cell_type": "code",
   "execution_count": 13,
   "metadata": {},
   "outputs": [
    {
     "ename": "NameError",
     "evalue": "name 'scatter' is not defined",
     "output_type": "error",
     "traceback": [
      "\u001b[0;31m---------------------------------------------------------------------------\u001b[0m",
      "\u001b[0;31mNameError\u001b[0m                                 Traceback (most recent call last)",
      "\u001b[0;32m<ipython-input-13-525ebefc0529>\u001b[0m in \u001b[0;36m<module>\u001b[0;34m()\u001b[0m\n\u001b[0;32m----> 1\u001b[0;31m \u001b[0mscatter\u001b[0m\u001b[0;34m(\u001b[0m\u001b[0mX\u001b[0m\u001b[0;34m,\u001b[0m \u001b[0mY\u001b[0m\u001b[0;34m)\u001b[0m\u001b[0;34m\u001b[0m\u001b[0m\n\u001b[0m",
      "\u001b[0;31mNameError\u001b[0m: name 'scatter' is not defined"
     ]
    }
   ],
   "source": [
    "scatter(X, Y)"
   ]
  },
  {
   "cell_type": "code",
   "execution_count": 124,
   "metadata": {},
   "outputs": [
    {
     "data": {
      "text/plain": [
       "blood_pressure    103.482301\n",
       "age                84.217069\n",
       "planet_id           2.000000\n",
       "dtype: float64"
      ]
     },
     "execution_count": 124,
     "metadata": {},
     "output_type": "execute_result"
    }
   ],
   "source": [
    "radan_array.mean()"
   ]
  },
  {
   "cell_type": "code",
   "execution_count": 6,
   "metadata": {},
   "outputs": [],
   "source": [
    "import seaborn as sns\n"
   ]
  },
  {
   "cell_type": "code",
   "execution_count": 12,
   "metadata": {},
   "outputs": [
    {
     "name": "stderr",
     "output_type": "stream",
     "text": [
      "/anaconda3/envs/MSDS5013/lib/python3.6/site-packages/seaborn/axisgrid.py:2065: UserWarning: The `size` parameter has been renamed to `height`; pleaes update your code.\n",
      "  warnings.warn(msg, UserWarning)\n",
      "/anaconda3/envs/MSDS5013/lib/python3.6/site-packages/matplotlib/tight_layout.py:177: UserWarning: The left and right margins cannot be made large enough to accommodate all axes decorations. \n",
      "  warnings.warn('The left and right margins cannot be made large '\n",
      "/anaconda3/envs/MSDS5013/lib/python3.6/site-packages/matplotlib/tight_layout.py:182: UserWarning: The bottom and top margins cannot be made large enough to accommodate all axes decorations. \n",
      "  warnings.warn('The bottom and top margins cannot be made large '\n",
      "/anaconda3/envs/MSDS5013/lib/python3.6/site-packages/scipy/stats/stats.py:1713: FutureWarning: Using a non-tuple sequence for multidimensional indexing is deprecated; use `arr[tuple(seq)]` instead of `arr[seq]`. In the future this will be interpreted as an array index, `arr[np.array(seq)]`, which will result either in an error or a different result.\n",
      "  return np.add.reduce(sorted[indexer] * weights, axis=axis) / sumval\n"
     ]
    },
    {
     "data": {
      "text/plain": [
       "<seaborn.axisgrid.PairGrid at 0x1a21182d30>"
      ]
     },
     "execution_count": 12,
     "metadata": {},
     "output_type": "execute_result"
    },
    {
     "data": {
      "image/png": "[encoded data removed]",
      "text/plain": [
       "<Figure size 35.28x50.4 with 1 Axes>"
      ]
     },
     "metadata": {},
     "output_type": "display_data"
    }
   ],
   "source": [
    "sns.pairplot(boran_array, x_vars = ['age'], y_vars ='blood_pressure', size=0.7, aspect=0.7, kind='reg')"
   ]
  },
  {
   "cell_type": "code",
   "execution_count": 10,
   "metadata": {},
   "outputs": [
    {
     "name": "stderr",
     "output_type": "stream",
     "text": [
      "/anaconda3/envs/MSDS5013/lib/python3.6/site-packages/seaborn/axisgrid.py:2065: UserWarning: The `size` parameter has been renamed to `height`; pleaes update your code.\n",
      "  warnings.warn(msg, UserWarning)\n",
      "/anaconda3/envs/MSDS5013/lib/python3.6/site-packages/scipy/stats/stats.py:1713: FutureWarning: Using a non-tuple sequence for multidimensional indexing is deprecated; use `arr[tuple(seq)]` instead of `arr[seq]`. In the future this will be interpreted as an array index, `arr[np.array(seq)]`, which will result either in an error or a different result.\n",
      "  return np.add.reduce(sorted[indexer] * weights, axis=axis) / sumval\n"
     ]
    },
    {
     "data": {
      "text/plain": [
       "<seaborn.axisgrid.PairGrid at 0x1a2113ec50>"
      ]
     },
     "execution_count": 10,
     "metadata": {},
     "output_type": "execute_result"
    },
    {
     "data": {
      "image/png": "[encoded data removed]",
      "text/plain": [
       "<Figure size 352.8x504 with 1 Axes>"
      ]
     },
     "metadata": {},
     "output_type": "display_data"
    }
   ],
   "source": [
    "sns.pairplot(radan_array, x_vars = ['age'], y_vars ='blood_pressure', size=7, aspect=0.7, kind='reg')"
   ]
  }
 ],
 "metadata": {
  "kernelspec": {
   "display_name": "Python 3",
   "language": "python",
   "name": "python3"
  },
  "language_info": {
   "codemirror_mode": {
    "name": "ipython",
    "version": 3
   },
   "file_extension": ".py",
   "mimetype": "text/x-python",
   "name": "python",
   "nbconvert_exporter": "python",
   "pygments_lexer": "ipython3",
   "version": "3.6.7"
  }
 },
 "nbformat": 4,
 "nbformat_minor": 2
}
